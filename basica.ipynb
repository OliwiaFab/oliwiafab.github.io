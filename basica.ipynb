{
  "nbformat": 4,
  "nbformat_minor": 0,
  "metadata": {
    "colab": {
      "provenance": [],
      "authorship_tag": "ABX9TyN+sizHpgzEOuLFZ+Qwj8pf",
      "include_colab_link": true
    },
    "kernelspec": {
      "name": "python3",
      "display_name": "Python 3"
    },
    "language_info": {
      "name": "python"
    }
  },
  "cells": [
    {
      "cell_type": "markdown",
      "metadata": {
        "id": "view-in-github",
        "colab_type": "text"
      },
      "source": [
        "<a href=\"https://colab.research.google.com/github/OliwiaFab/oliwiafab.github.io/blob/main/basica.ipynb\" target=\"_parent\"><img src=\"https://colab.research.google.com/assets/colab-badge.svg\" alt=\"Open In Colab\"/></a>"
      ]
    },
    {
      "cell_type": "code",
      "execution_count": null,
      "metadata": {
        "colab": {
          "base_uri": "https://localhost:8080/"
        },
        "id": "r1OzWaMfZE9z",
        "outputId": "c67c178f-064d-4dae-d75e-101e5ff4f64d"
      },
      "outputs": [
        {
          "output_type": "stream",
          "name": "stdout",
          "text": [
            "Uau, acertou!\n"
          ]
        },
        {
          "output_type": "execute_result",
          "data": {
            "text/plain": [
              "True"
            ]
          },
          "metadata": {},
          "execution_count": 11
        }
      ],
      "source": [
        "\n",
        "x = 25\n",
        "\n",
        "def adivinha(x):\n",
        "    if x == 25:\n",
        "        print(\"Uau, acertou!\")  # komunikat dla trafienia\n",
        "        return True\n",
        "    else:\n",
        "        print(\"Não acertou...\")  # komunikat dla błędu\n",
        "        return False\n",
        "\n",
        "adivinha(x)"
      ]
    },
    {
      "cell_type": "code",
      "source": [
        "import random\n",
        "\n",
        "def adivinha1(numero):\n",
        "    secreto = random.randint(0, 100) #losujemy liczbe\n",
        "\n",
        "    if numero == secreto:\n",
        "        print(\"Shoooooot\")\n",
        "        return True\n",
        "    else:\n",
        "        print(\":(\", secreto)\n",
        "        return False\n",
        "\n",
        "adivinha1(20)"
      ],
      "metadata": {
        "colab": {
          "base_uri": "https://localhost:8080/"
        },
        "id": "9LTDEBtKZr_O",
        "outputId": "60eaca33-8a74-487f-8da5-51ecaa2d599e"
      },
      "execution_count": null,
      "outputs": [
        {
          "output_type": "stream",
          "name": "stdout",
          "text": [
            ":( 73\n"
          ]
        },
        {
          "output_type": "execute_result",
          "data": {
            "text/plain": [
              "False"
            ]
          },
          "metadata": {},
          "execution_count": 12
        }
      ]
    },
    {
      "cell_type": "code",
      "source": [
        "def adivinha2(n_1,n_2,n_3):\n",
        "    sec = random.randint(0, 100)\n",
        "\n",
        "    if n_1 == sec:\n",
        "        print(\"Shoooooot for 1st time\")\n",
        "        return True\n",
        "    elif n_2 == sec:\n",
        "        print(\"Shooooot for 2nd time\")\n",
        "        return True\n",
        "    elif n_3 == sec:\n",
        "        print(\"Shoot for 3rd time\")\n",
        "        return True\n",
        "    else:\n",
        "        print(\":(\")\n",
        "        return False\n",
        "\n",
        "adivinha2(10,20,30)"
      ],
      "metadata": {
        "colab": {
          "base_uri": "https://localhost:8080/"
        },
        "id": "liWZm4VfZfXE",
        "outputId": "9f60b4f2-6dfd-441a-dbe5-81d017fa1a96"
      },
      "execution_count": null,
      "outputs": [
        {
          "output_type": "stream",
          "name": "stdout",
          "text": [
            ":(\n"
          ]
        },
        {
          "output_type": "execute_result",
          "data": {
            "text/plain": [
              "False"
            ]
          },
          "metadata": {},
          "execution_count": 13
        }
      ]
    },
    {
      "cell_type": "code",
      "source": [
        "import math\n",
        "#( x0 ⇡pa xn+1 = 1/2 ⇥(xn + a xn )\n",
        "\n",
        "def raiz_quadrada(a, repete):\n",
        "    conta = 0\n",
        "    x = int(input(\"daj x: \"))\n",
        "\n",
        "    while conta < repete:\n",
        "        x = 0.5 * (x + (a/x))\n",
        "        conta += 1\n",
        "        print(x)\n",
        "        return \"Koniec\"\n",
        "\n",
        "raiz_quadrada(2,10)\n",
        "#pierwiastek kwadratowy"
      ],
      "metadata": {
        "id": "W6S0_SsQZfFR",
        "colab": {
          "base_uri": "https://localhost:8080/",
          "height": 70
        },
        "outputId": "da5ec8ed-8a76-4372-c23e-17c7f8396433"
      },
      "execution_count": null,
      "outputs": [
        {
          "output_type": "stream",
          "name": "stdout",
          "text": [
            "daj x: 7\n",
            "3.642857142857143\n"
          ]
        },
        {
          "output_type": "execute_result",
          "data": {
            "text/plain": [
              "'Koniec'"
            ],
            "application/vnd.google.colaboratory.intrinsic+json": {
              "type": "string"
            }
          },
          "metadata": {},
          "execution_count": 14
        }
      ]
    },
    {
      "cell_type": "code",
      "source": [
        "def adivinha3():\n",
        "    s = random.randint(0, 100)\n",
        "    count = 0\n",
        "\n",
        "    while count < 10:\n",
        "        numero = int(input(\"your number is: \"))\n",
        "\n",
        "        if numero == s:\n",
        "            print(\"Uau, acertou\")\n",
        "            return True\n",
        "        elif numero > s:\n",
        "            print(\"Muito grande..\")\n",
        "        else:\n",
        "            print(\"Muito pequeno..\")\n",
        "\n",
        "        count += 1\n",
        "\n",
        "    print(\";(\")\n",
        "    return s\n",
        "\n",
        "adivinha3()"
      ],
      "metadata": {
        "id": "iJL9H-epZXbK",
        "colab": {
          "base_uri": "https://localhost:8080/"
        },
        "outputId": "b5e67058-2127-46b8-871d-55bd049701b5"
      },
      "execution_count": null,
      "outputs": [
        {
          "output_type": "stream",
          "name": "stdout",
          "text": [
            "your number is: 50\n",
            "Muito grande..\n",
            "your number is: 30\n",
            "Muito grande..\n",
            "your number is: 20\n",
            "Muito grande..\n",
            "your number is: 10\n",
            "Muito grande..\n",
            "your number is: 1\n",
            "Muito pequeno..\n",
            "your number is: 4\n",
            "Muito grande..\n",
            "your number is: 2\n",
            "Uau, acertou\n"
          ]
        },
        {
          "output_type": "execute_result",
          "data": {
            "text/plain": [
              "True"
            ]
          },
          "metadata": {},
          "execution_count": 15
        }
      ]
    },
    {
      "cell_type": "code",
      "source": [
        "import math\n",
        "r = 2\n",
        "v = (4.0/3.0) * math.pi * r**3\n",
        "print(v)"
      ],
      "metadata": {
        "colab": {
          "base_uri": "https://localhost:8080/"
        },
        "id": "GNQXZ4SKaLv8",
        "outputId": "00bf7c2c-f599-400b-c42c-3836c943d44e"
      },
      "execution_count": null,
      "outputs": [
        {
          "output_type": "stream",
          "name": "stdout",
          "text": [
            "33.510321638291124\n"
          ]
        }
      ]
    },
    {
      "cell_type": "code",
      "source": [
        "def factorial(num):\n",
        "    result = 1\n",
        "    while num > 1:\n",
        "        result *= num\n",
        "        num -= 1\n",
        "    return result\n",
        "\n",
        "print(factorial(3))"
      ],
      "metadata": {
        "colab": {
          "base_uri": "https://localhost:8080/"
        },
        "id": "PFMmeWjgaRK6",
        "outputId": "82b40987-9b7a-4dde-9147-ec5f2af5f818"
      },
      "execution_count": null,
      "outputs": [
        {
          "output_type": "stream",
          "name": "stdout",
          "text": [
            "6\n"
          ]
        }
      ]
    },
    {
      "cell_type": "code",
      "source": [
        "def is_even(numer):\n",
        "    if (numer//2) * 2 == numer:\n",
        "        print(\"is even\")\n",
        "        return True\n",
        "    else:\n",
        "        print(\"is odd\")\n",
        "        return False\n",
        "\n",
        "is_even(19)"
      ],
      "metadata": {
        "colab": {
          "base_uri": "https://localhost:8080/"
        },
        "id": "KHz01mZmaXgT",
        "outputId": "fdb55512-22b9-4d49-8ddc-5c17382c1043"
      },
      "execution_count": null,
      "outputs": [
        {
          "output_type": "stream",
          "name": "stdout",
          "text": [
            "is odd\n"
          ]
        },
        {
          "output_type": "execute_result",
          "data": {
            "text/plain": [
              "False"
            ]
          },
          "metadata": {},
          "execution_count": 18
        }
      ]
    },
    {
      "cell_type": "code",
      "source": [
        "def average(n):\n",
        "    if n <= 0:\n",
        "        return 0\n",
        "    total_sum = 0.0\n",
        "    for i in range(n):\n",
        "        value_str = input(f\"Enter a number {i + 1}: \")\n",
        "        value = float(value_str)\n",
        "        total_sum += value\n",
        "    result = total_sum / n\n",
        "    return result\n",
        "\n",
        "srednia_z = average(3)\n",
        "print(f\"Obliczona średnia to: {srednia_z}\")"
      ],
      "metadata": {
        "colab": {
          "base_uri": "https://localhost:8080/"
        },
        "id": "_5ziNqViaYuR",
        "outputId": "9dd55105-b922-4a6a-8866-f886577db89a"
      },
      "execution_count": null,
      "outputs": [
        {
          "output_type": "stream",
          "name": "stdout",
          "text": [
            "Enter a number 1: 1\n",
            "Enter a number 2: 19\n",
            "Enter a number 3: 6\n",
            "Obliczona średnia to: 8.666666666666666\n"
          ]
        }
      ]
    },
    {
      "cell_type": "code",
      "source": [
        "def pow(base, exponent):\n",
        "    #base^exponent bez **\n",
        "    if exponent == 0:\n",
        "        return 1\n",
        "\n",
        "    result = 1.0\n",
        "\n",
        "    if exponent <0:\n",
        "        base = 1.0 / base\n",
        "        exponent = -exponent\n",
        "\n",
        "    for i in range(exponent):\n",
        "        result *= base\n",
        "\n",
        "    return result\n",
        "\n",
        "print(f\"2 do potęgi 3 to: {pow(2, 3)}\")"
      ],
      "metadata": {
        "colab": {
          "base_uri": "https://localhost:8080/"
        },
        "id": "xxe3E3yzabhI",
        "outputId": "2bed8721-a62b-4501-ee79-0a75687ff25d"
      },
      "execution_count": null,
      "outputs": [
        {
          "output_type": "stream",
          "name": "stdout",
          "text": [
            "2 do potęgi 3 to: 8.0\n"
          ]
        }
      ]
    },
    {
      "cell_type": "code",
      "source": [
        "\n",
        "def count(limit, is_increasing):\n",
        "    if is_increasing:\n",
        "        i = 1\n",
        "        while i <= limit:\n",
        "            print(i)\n",
        "            i += 1\n",
        "    else:\n",
        "        i = limit\n",
        "        while i>= 1:\n",
        "            print(i)\n",
        "            i -= 1\n",
        "\n",
        "count(5, True)"
      ],
      "metadata": {
        "colab": {
          "base_uri": "https://localhost:8080/"
        },
        "id": "_i0D2s0IadYY",
        "outputId": "38a4ea7d-f829-44f0-a629-ebd0cf37e09b"
      },
      "execution_count": null,
      "outputs": [
        {
          "output_type": "stream",
          "name": "stdout",
          "text": [
            "1\n",
            "2\n",
            "3\n",
            "4\n",
            "5\n"
          ]
        }
      ]
    },
    {
      "cell_type": "code",
      "source": [
        "def count_for(limit, is_increasing):\n",
        "    if is_increasing:\n",
        "        for i in range(1, limit + 1):\n",
        "            print(i)\n",
        "    else:\n",
        "        for i in range(limit, 0, -1):\n",
        "            print (i)\n",
        "count_for(5, False)"
      ],
      "metadata": {
        "colab": {
          "base_uri": "https://localhost:8080/"
        },
        "id": "zCYDSSxAagVf",
        "outputId": "2a973194-def0-4938-c8d5-9614f200bc7b"
      },
      "execution_count": null,
      "outputs": [
        {
          "output_type": "stream",
          "name": "stdout",
          "text": [
            "5\n",
            "4\n",
            "3\n",
            "2\n",
            "1\n"
          ]
        }
      ]
    }
  ]
}